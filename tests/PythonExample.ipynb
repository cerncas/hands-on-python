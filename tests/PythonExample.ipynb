{
 "cells": [
  {
   "cell_type": "markdown",
   "metadata": {},
   "source": [
    "# 1: Item assignment and implicit typing"
   ]
  },
  {
   "cell_type": "markdown",
   "metadata": {},
   "source": [
    "#### Value assignment with single '=' operator, note that there is no type declaration"
   ]
  },
  {
   "cell_type": "code",
   "execution_count": 1,
   "metadata": {},
   "outputs": [
    {
     "name": "stdout",
     "output_type": "stream",
     "text": [
      "1\n",
      "2.0\n"
     ]
    }
   ],
   "source": [
    "a = 1\n",
    "b = 2.0\n",
    "print(a)\n",
    "print(b)"
   ]
  },
  {
   "cell_type": "markdown",
   "metadata": {},
   "source": [
    "#### Type checking confirms that a is int, and b is float"
   ]
  },
  {
   "cell_type": "code",
   "execution_count": 2,
   "metadata": {},
   "outputs": [
    {
     "name": "stdout",
     "output_type": "stream",
     "text": [
      "<class 'int'>\n",
      "<class 'float'>\n"
     ]
    }
   ],
   "source": [
    "print(type(a))\n",
    "print(type(b))"
   ]
  },
  {
   "cell_type": "markdown",
   "metadata": {},
   "source": [
    "#### Variables of different types can be operated on, and the \"correct\" type propogates through to the solution"
   ]
  },
  {
   "cell_type": "code",
   "execution_count": 3,
   "metadata": {},
   "outputs": [
    {
     "name": "stdout",
     "output_type": "stream",
     "text": [
      "3.0\n",
      "<class 'float'>\n"
     ]
    }
   ],
   "source": [
    "c = a + b\n",
    "print(c)\n",
    "print(type(c))"
   ]
  },
  {
   "cell_type": "markdown",
   "metadata": {},
   "source": [
    "#### \"in place\" operators can be used to change the value of a variable WITHOUT creating a new variable\n",
    "#### e.g. c += 2 is equivalent to c = c + 2"
   ]
  },
  {
   "cell_type": "code",
   "execution_count": 4,
   "metadata": {},
   "outputs": [
    {
     "name": "stdout",
     "output_type": "stream",
     "text": [
      "5.0\n"
     ]
    }
   ],
   "source": [
    "c += 2\n",
    "print(c)"
   ]
  },
  {
   "cell_type": "markdown",
   "metadata": {},
   "source": [
    "# 2: Lists"
   ]
  },
  {
   "cell_type": "markdown",
   "metadata": {},
   "source": [
    "#### List definition is with '[' values ']', tuples and dictionaries are also available but not dealt with here"
   ]
  },
  {
   "cell_type": "code",
   "execution_count": 5,
   "metadata": {},
   "outputs": [
    {
     "name": "stdout",
     "output_type": "stream",
     "text": [
      "[10, -5, 3]\n",
      "<class 'list'>\n"
     ]
    }
   ],
   "source": [
    "myList = [10, -5, 3]\n",
    "print(myList)\n",
    "print(type(myList))"
   ]
  },
  {
   "cell_type": "markdown",
   "metadata": {},
   "source": [
    "#### List indexing starts from 0, and -ve indexes allow access from the end of the list"
   ]
  },
  {
   "cell_type": "code",
   "execution_count": 6,
   "metadata": {},
   "outputs": [
    {
     "name": "stdout",
     "output_type": "stream",
     "text": [
      "myList element  0: 10\n",
      "myList element  1: -5\n",
      "myList element  2:  3\n",
      "myList element -1:  3\n",
      "myList element -2: -5\n",
      "myList element -3: 10\n"
     ]
    }
   ],
   "source": [
    "print(\"myList element  0:\", myList[0])\n",
    "print(\"myList element  1:\", myList[1])\n",
    "print(\"myList element  2: \", myList[2])\n",
    "print(\"myList element -1: \", myList[-1])\n",
    "print(\"myList element -2:\", myList[-2])\n",
    "print(\"myList element -3:\", myList[-3])"
   ]
  },
  {
   "cell_type": "markdown",
   "metadata": {},
   "source": [
    "#### List value assignment is with list[index] = value"
   ]
  },
  {
   "cell_type": "code",
   "execution_count": 7,
   "metadata": {},
   "outputs": [
    {
     "name": "stdout",
     "output_type": "stream",
     "text": [
      "myList before: [10, -5, 3]\n",
      "myList after:  [2, -5, 3]\n"
     ]
    }
   ],
   "source": [
    "print(\"myList before:\", myList)\n",
    "myList[0] = 2\n",
    "print(\"myList after: \", myList)"
   ]
  },
  {
   "cell_type": "markdown",
   "metadata": {},
   "source": [
    "#### List contents are free, the type of the list doesn't change if the contents are different"
   ]
  },
  {
   "cell_type": "code",
   "execution_count": 8,
   "metadata": {},
   "outputs": [
    {
     "name": "stdout",
     "output_type": "stream",
     "text": [
      "[5, 10, 15, 20]\n",
      "['this', 'is', 'a', 'list']\n",
      "<class 'list'>\n",
      "<class 'list'>\n"
     ]
    }
   ],
   "source": [
    "numberList = [5, 10, 15, 20]\n",
    "stringList = ['this', 'is', 'a', 'list']\n",
    "print(numberList)\n",
    "print(stringList)\n",
    "print(type(numberList))\n",
    "print(type(stringList))"
   ]
  },
  {
   "cell_type": "markdown",
   "metadata": {},
   "source": [
    "#### Lists can contain different types"
   ]
  },
  {
   "cell_type": "code",
   "execution_count": 9,
   "metadata": {
    "scrolled": true
   },
   "outputs": [
    {
     "name": "stdout",
     "output_type": "stream",
     "text": [
      "['this is a string', 1, 2, 'this is another string']\n"
     ]
    }
   ],
   "source": [
    "myList = ['this is a string', 1, 2, 'this is another string']\n",
    "print(myList)"
   ]
  },
  {
   "cell_type": "markdown",
   "metadata": {},
   "source": [
    "#### [:index] syntax access all elements up to index (EXCLUSIVE)\n",
    "#### [index:] syntax access all elements from index onwards (INCLUSIVE)"
   ]
  },
  {
   "cell_type": "code",
   "execution_count": 10,
   "metadata": {},
   "outputs": [
    {
     "name": "stdout",
     "output_type": "stream",
     "text": [
      "['this is a string', 1, 2, 'this is another string']\n",
      "['this is a string']\n",
      "['this is a string', 1]\n",
      "[1, 2, 'this is another string']\n",
      "[2, 'this is another string']\n"
     ]
    }
   ],
   "source": [
    "print(myList)\n",
    "print(myList[:1])\n",
    "print(myList[:2])\n",
    "print(myList[1:])\n",
    "print(myList[2:])"
   ]
  },
  {
   "cell_type": "markdown",
   "metadata": {},
   "source": [
    "#### With lists of lists an additional [index] is added to access the second list, indexing style doesn't change."
   ]
  },
  {
   "cell_type": "code",
   "execution_count": 11,
   "metadata": {},
   "outputs": [
    {
     "name": "stdout",
     "output_type": "stream",
     "text": [
      "List of lists: [[5, 10, 15, 20], ['this', 'is', 'a', 'list']]\n",
      "Element 0:     [5, 10, 15, 20]\n",
      "Element 1:     ['this', 'is', 'a', 'list']\n"
     ]
    }
   ],
   "source": [
    "myList = [numberList, stringList]\n",
    "print(\"List of lists:\", myList)\n",
    "print(\"Element 0:    \", myList[0])\n",
    "print(\"Element 1:    \", myList[1])"
   ]
  },
  {
   "cell_type": "code",
   "execution_count": 12,
   "metadata": {},
   "outputs": [
    {
     "name": "stdout",
     "output_type": "stream",
     "text": [
      "Elment 0 of list at element 0: 5\n",
      "First 2 elements of list at element 1: ['this', 'is']\n"
     ]
    }
   ],
   "source": [
    "print(\"Elment 0 of list at element 0:\", myList[0][0])\n",
    "print(\"First 2 elements of list at element 1:\", myList[1][:2])"
   ]
  },
  {
   "cell_type": "markdown",
   "metadata": {},
   "source": [
    "#### List sizes are dynamically variable, the list.append(value) function will append value to the end of the list"
   ]
  },
  {
   "cell_type": "code",
   "execution_count": 13,
   "metadata": {},
   "outputs": [
    {
     "name": "stdout",
     "output_type": "stream",
     "text": [
      "[]\n",
      "[1]\n",
      "[1, 2]\n"
     ]
    }
   ],
   "source": [
    "myList = []\n",
    "print(myList)\n",
    "myList.append(1)\n",
    "print(myList)\n",
    "myList.append(2)\n",
    "print(myList)"
   ]
  },
  {
   "cell_type": "markdown",
   "metadata": {},
   "source": [
    "#### If you append a list to a list, you add the full list not its contents"
   ]
  },
  {
   "cell_type": "code",
   "execution_count": 14,
   "metadata": {},
   "outputs": [
    {
     "name": "stdout",
     "output_type": "stream",
     "text": [
      "[1, 2, [3, 4, 5]]\n"
     ]
    }
   ],
   "source": [
    "myList.append([3, 4, 5])\n",
    "print(myList)"
   ]
  },
  {
   "cell_type": "markdown",
   "metadata": {},
   "source": [
    "#### Adding two lists (list1 + list2) adds the elements from list2 to the elements of list1\n",
    "#### Note:  Here \"in place\" addition is used (+=)"
   ]
  },
  {
   "cell_type": "code",
   "execution_count": 15,
   "metadata": {},
   "outputs": [
    {
     "name": "stdout",
     "output_type": "stream",
     "text": [
      "[1, 2]\n",
      "[1, 2, 3, 4, 5]\n"
     ]
    }
   ],
   "source": [
    "myList = myList[:2]\n",
    "print(myList)\n",
    "myList += [3, 4, 5]\n",
    "print(myList)"
   ]
  },
  {
   "cell_type": "markdown",
   "metadata": {},
   "source": [
    "# 3: For loops"
   ]
  },
  {
   "cell_type": "markdown",
   "metadata": {},
   "source": [
    "#### For loop syntax (for value in SourceOfValues: do stuff) with indentation defining the heirarchy\n",
    "#### Note:  The value of 'element' is pulled directly from the list, there is no array indexing involved"
   ]
  },
  {
   "cell_type": "code",
   "execution_count": 16,
   "metadata": {},
   "outputs": [
    {
     "name": "stdout",
     "output_type": "stream",
     "text": [
      "Index: 0  element: 10\n",
      "Index: 1  element: 11\n",
      "Index: 2  element: 12\n",
      "Index: 3  element: a\n",
      "Index: 4  element: b\n",
      "Index: 5  element: c\n"
     ]
    }
   ],
   "source": [
    "testList = [10, 11, 12, 'a', 'b', 'c']\n",
    "counter = 0\n",
    "for element in testList:\n",
    "    print(\"Index:\", counter, \" element:\", element)\n",
    "    counter = counter + 1"
   ]
  },
  {
   "cell_type": "markdown",
   "metadata": {},
   "source": [
    "#### List appending can be nested in a for loop to populate the list (depending on the application there can be better ways)"
   ]
  },
  {
   "cell_type": "code",
   "execution_count": 17,
   "metadata": {},
   "outputs": [
    {
     "name": "stdout",
     "output_type": "stream",
     "text": [
      "Index: 0  element: 10\n",
      "Index: 1  element: 11\n",
      "Index: 2  element: 12\n",
      "Index: 3  element: a\n",
      "Index: 4  element: b\n",
      "Index: 5  element: c\n",
      "counterList: [0, 1, 2, 3, 4, 5]\n"
     ]
    }
   ],
   "source": [
    "counter = 0\n",
    "counterList = []\n",
    "for element in testList:\n",
    "    counterList.append(counter)\n",
    "    print(\"Index:\", counter, \" element:\", element)\n",
    "    counter += 1\n",
    "print(\"counterList:\", counterList)"
   ]
  },
  {
   "cell_type": "markdown",
   "metadata": {},
   "source": [
    "#### Once value has been taken from SourceOfValues it is a variable itself, reassigning the value will not change SourceOfValues\n",
    "#### Note:  inplace multiplication (\\*=), the value of i as taken from counterList has its value changed"
   ]
  },
  {
   "cell_type": "code",
   "execution_count": 18,
   "metadata": {},
   "outputs": [
    {
     "name": "stdout",
     "output_type": "stream",
     "text": [
      "[0, 1, 2, 3, 4, 5]\n",
      "old i:  0\n",
      "new i:  0\n",
      "old i:  1\n",
      "new i:  3\n",
      "old i:  2\n",
      "new i:  6\n",
      "old i:  3\n",
      "new i:  9\n",
      "old i:  4\n",
      "new i:  12\n",
      "old i:  5\n",
      "new i:  15\n",
      "[0, 1, 2, 3, 4, 5]\n"
     ]
    }
   ],
   "source": [
    "print(counterList)\n",
    "for i in counterList:\n",
    "    print(\"old i: \", i)\n",
    "    i *= 3\n",
    "    print(\"new i: \", i)\n",
    "print(counterList)"
   ]
  },
  {
   "cell_type": "markdown",
   "metadata": {},
   "source": [
    "#### The range(x) function creates a simple counter, very useful for for loops"
   ]
  },
  {
   "cell_type": "code",
   "execution_count": 21,
   "metadata": {},
   "outputs": [
    {
     "name": "stdout",
     "output_type": "stream",
     "text": [
      "0\n",
      "1\n",
      "2\n",
      "3\n",
      "4\n",
      "5\n",
      "6\n",
      "7\n",
      "8\n",
      "9\n",
      "10\n",
      "11\n"
     ]
    }
   ],
   "source": [
    "for number in range(12):\n",
    "    print(number)"
   ]
  },
  {
   "cell_type": "markdown",
   "metadata": {},
   "source": [
    "#### Using the counter from the range function lets the list contents be modified within the for loop by indexing the list"
   ]
  },
  {
   "cell_type": "code",
   "execution_count": 22,
   "metadata": {},
   "outputs": [
    {
     "name": "stdout",
     "output_type": "stream",
     "text": [
      "myList before: [10, 20, 30, 40, 50, 60]\n",
      "Replacing the value at index 0 with 5\n",
      "Replacing the value at index 1 with 6\n",
      "Replacing the value at index 2 with 7\n",
      "Replacing the value at index 3 with 8\n",
      "Replacing the value at index 4 with 9\n",
      "Replacing the value at index 5 with 10\n",
      "myList after:  [5, 6, 7, 8, 9, 10]\n"
     ]
    }
   ],
   "source": [
    "myList = [10, 20, 30, 40, 50, 60]\n",
    "print(\"myList before:\", myList)\n",
    "for number in range(6):\n",
    "    print(\"Replacing the value at index\", number, \"with\", number+5)\n",
    "    myList[number] = number+5\n",
    "print(\"myList after: \", myList)"
   ]
  },
  {
   "cell_type": "markdown",
   "metadata": {},
   "source": [
    "#### if/else statements are used for binary logic, here the greater than \">\" operator checks if value is larger than 10"
   ]
  },
  {
   "cell_type": "code",
   "execution_count": 23,
   "metadata": {},
   "outputs": [
    {
     "name": "stdout",
     "output_type": "stream",
     "text": [
      "3 is not greater than 10\n",
      "4 is not greater than 10\n",
      "5 is not greater than 10\n",
      "6 is not greater than 10\n",
      "7 is not greater than 10\n",
      "8 is not greater than 10\n",
      "9 is not greater than 10\n",
      "10 is not greater than 10\n",
      "11 is greater than 10\n",
      "12 is greater than 10\n",
      "13 is greater than 10\n",
      "14 is greater than 10\n"
     ]
    }
   ],
   "source": [
    "testList = [3, 4, 5, 6, 7, 8, 9, 10, 11, 12, 13, 14]\n",
    "for value in testList:\n",
    "    if value > 10:\n",
    "        print(value, \"is greater than 10\")\n",
    "    else:\n",
    "        print(value, \"is not greater than 10\")"
   ]
  },
  {
   "cell_type": "markdown",
   "metadata": {},
   "source": [
    "# 4: Functions"
   ]
  },
  {
   "cell_type": "markdown",
   "metadata": {},
   "source": [
    "#### Function definitions also use indentation"
   ]
  },
  {
   "cell_type": "code",
   "execution_count": 24,
   "metadata": {},
   "outputs": [],
   "source": [
    "def my_function():\n",
    "    print(\"You just called a function\")"
   ]
  },
  {
   "cell_type": "markdown",
   "metadata": {},
   "source": [
    "#### Functions are called with the function_name() syntax"
   ]
  },
  {
   "cell_type": "code",
   "execution_count": 25,
   "metadata": {},
   "outputs": [
    {
     "name": "stdout",
     "output_type": "stream",
     "text": [
      "You just called a function\n"
     ]
    }
   ],
   "source": [
    "my_function()"
   ]
  },
  {
   "cell_type": "markdown",
   "metadata": {},
   "source": [
    "#### Due to implicit typing, no type definition is needed when defining variables used in the function call"
   ]
  },
  {
   "cell_type": "code",
   "execution_count": 26,
   "metadata": {},
   "outputs": [],
   "source": [
    "def my_print_function(variable):\n",
    "    print(variable)"
   ]
  },
  {
   "cell_type": "markdown",
   "metadata": {},
   "source": [
    "#### Variable passed into the function, could be any variable with the same result"
   ]
  },
  {
   "cell_type": "code",
   "execution_count": 27,
   "metadata": {},
   "outputs": [
    {
     "name": "stdout",
     "output_type": "stream",
     "text": [
      "Here is a variable\n",
      "1.2345\n",
      "['here', 'is', 'a', 'list']\n"
     ]
    }
   ],
   "source": [
    "my_print_function(\"Here is a variable\")\n",
    "my_print_function(1.2345)\n",
    "my_print_function(['here', 'is', 'a', 'list'])"
   ]
  },
  {
   "cell_type": "markdown",
   "metadata": {},
   "source": [
    "#### Multiple input variables are passed to a function with comma separation any output is given back via the 'return' command"
   ]
  },
  {
   "cell_type": "code",
   "execution_count": 28,
   "metadata": {},
   "outputs": [],
   "source": [
    "def my_adding_function(var1, var2):\n",
    "    print(\"var1 =\", var1)\n",
    "    print(\"var2 =\", var2)\n",
    "    return var1 + var2"
   ]
  },
  {
   "cell_type": "markdown",
   "metadata": {},
   "source": [
    "#### Assignment of function result is no different to assigning variables to a value"
   ]
  },
  {
   "cell_type": "code",
   "execution_count": 29,
   "metadata": {},
   "outputs": [
    {
     "name": "stdout",
     "output_type": "stream",
     "text": [
      "var1 = 1\n",
      "var2 = 2\n",
      "3\n"
     ]
    }
   ],
   "source": [
    "added = my_adding_function(1, 2)\n",
    "print(added)"
   ]
  },
  {
   "cell_type": "markdown",
   "metadata": {},
   "source": [
    "#### And with implicit typing the types of the input and output are automatic."
   ]
  },
  {
   "cell_type": "code",
   "execution_count": 30,
   "metadata": {},
   "outputs": [
    {
     "name": "stdout",
     "output_type": "stream",
     "text": [
      "var1 = [1, 2, 3]\n",
      "var2 = [4, 5, 6]\n",
      "[1, 2, 3, 4, 5, 6]\n"
     ]
    }
   ],
   "source": [
    "list1 = [1, 2, 3]\n",
    "list2 = [4, 5, 6]\n",
    "addList = my_adding_function(list1, list2)\n",
    "print(addList)"
   ]
  },
  {
   "cell_type": "markdown",
   "metadata": {},
   "source": [
    "#### Functions can have optional arguments"
   ]
  },
  {
   "cell_type": "code",
   "execution_count": 31,
   "metadata": {},
   "outputs": [],
   "source": [
    "def new_function(anInput, anOptionalInput = 1):\n",
    "    print(\"anInput:\", anInput)\n",
    "    print(\"anOptionalInput:\", anOptionalInput)"
   ]
  },
  {
   "cell_type": "markdown",
   "metadata": {},
   "source": [
    "#### If the optional argument isn't assigned, the default value is taken"
   ]
  },
  {
   "cell_type": "code",
   "execution_count": 32,
   "metadata": {},
   "outputs": [
    {
     "name": "stdout",
     "output_type": "stream",
     "text": [
      "With default value\n",
      "anInput: test\n",
      "anOptionalInput: 1\n",
      "****************\n",
      "With assigned value\n",
      "anInput: test\n",
      "anOptionalInput: not the default value\n"
     ]
    }
   ],
   "source": [
    "print(\"With default value\")\n",
    "new_function('test')\n",
    "print(\"****************\")\n",
    "print(\"With assigned value\")\n",
    "new_function(\"test\", 'not the default value')"
   ]
  },
  {
   "cell_type": "markdown",
   "metadata": {},
   "source": [
    "#### docstrings can be added to functions to give information about them"
   ]
  },
  {
   "cell_type": "code",
   "execution_count": 33,
   "metadata": {},
   "outputs": [],
   "source": [
    "def a_function_with_docstring():\n",
    "    \"This is a docstring.  This function doesn't do anything\""
   ]
  },
  {
   "cell_type": "markdown",
   "metadata": {},
   "source": [
    "#### a function name followed by a \"?\" will show the docstring in ipython"
   ]
  },
  {
   "cell_type": "code",
   "execution_count": 34,
   "metadata": {},
   "outputs": [
    {
     "name": "stdout",
     "output_type": "stream",
     "text": [
      "\u001b[0;31mSignature:\u001b[0m \u001b[0ma_function_with_docstring\u001b[0m\u001b[0;34m(\u001b[0m\u001b[0;34m)\u001b[0m\u001b[0;34m\u001b[0m\u001b[0;34m\u001b[0m\u001b[0m\n",
      "\u001b[0;31mDocstring:\u001b[0m This is a docstring.  This function doesn't do anything\n",
      "\u001b[0;31mFile:\u001b[0m      /var/folders/6m/1nl4293j1rvdzdp_8pn3bjcw0000gn/T/ipykernel_13552/1310299108.py\n",
      "\u001b[0;31mType:\u001b[0m      function"
     ]
    }
   ],
   "source": [
    "a_function_with_docstring?"
   ]
  },
  {
   "cell_type": "markdown",
   "metadata": {},
   "source": [
    "# 5: Libraries"
   ]
  },
  {
   "cell_type": "markdown",
   "metadata": {},
   "source": [
    "#### The 'import' command is used to import libraries"
   ]
  },
  {
   "cell_type": "code",
   "execution_count": 36,
   "metadata": {},
   "outputs": [],
   "source": [
    "import TutorialLibraryOfFunctions"
   ]
  },
  {
   "cell_type": "markdown",
   "metadata": {},
   "source": [
    "#### Printing a library name tells you what it is and where it's from"
   ]
  },
  {
   "cell_type": "code",
   "execution_count": 37,
   "metadata": {},
   "outputs": [
    {
     "name": "stdout",
     "output_type": "stream",
     "text": [
      "<module 'TutorialLibraryOfFunctions' from '/Users/dgamba/CERN/Teaching/2024_CAS_Introduction_OpticsHandsOn/python_setup/tests/TutorialLibraryOfFunctions.py'>\n"
     ]
    }
   ],
   "source": [
    "print(TutorialLibraryOfFunctions)"
   ]
  },
  {
   "cell_type": "markdown",
   "metadata": {},
   "source": [
    "#### import library as name allows the same library to be imported with a much shorter name"
   ]
  },
  {
   "cell_type": "code",
   "execution_count": 38,
   "metadata": {},
   "outputs": [],
   "source": [
    "import TutorialLibraryOfFunctions as TLib"
   ]
  },
  {
   "cell_type": "markdown",
   "metadata": {},
   "source": [
    "#### Printing the short name shows it is the same library"
   ]
  },
  {
   "cell_type": "code",
   "execution_count": 39,
   "metadata": {},
   "outputs": [
    {
     "name": "stdout",
     "output_type": "stream",
     "text": [
      "<module 'TutorialLibraryOfFunctions' from '/Users/dgamba/CERN/Teaching/2024_CAS_Introduction_OpticsHandsOn/python_setup/tests/TutorialLibraryOfFunctions.py'>\n"
     ]
    }
   ],
   "source": [
    "print(TLib)"
   ]
  },
  {
   "cell_type": "markdown",
   "metadata": {},
   "source": [
    "#### External libraries should provide docstrings"
   ]
  },
  {
   "cell_type": "code",
   "execution_count": 40,
   "metadata": {},
   "outputs": [
    {
     "name": "stdout",
     "output_type": "stream",
     "text": [
      "\u001b[0;31mSignature:\u001b[0m \u001b[0mTLib\u001b[0m\u001b[0;34m.\u001b[0m\u001b[0msin_function\u001b[0m\u001b[0;34m(\u001b[0m\u001b[0mx\u001b[0m\u001b[0;34m)\u001b[0m\u001b[0;34m\u001b[0m\u001b[0;34m\u001b[0m\u001b[0m\n",
      "\u001b[0;31mDocstring:\u001b[0m <no docstring>\n",
      "\u001b[0;31mFile:\u001b[0m      ~/CERN/Teaching/2024_CAS_Introduction_OpticsHandsOn/python_setup/tests/TutorialLibraryOfFunctions.py\n",
      "\u001b[0;31mType:\u001b[0m      function"
     ]
    }
   ],
   "source": [
    "TLib.sin_function?"
   ]
  },
  {
   "cell_type": "markdown",
   "metadata": {},
   "source": [
    "#### The library contents are accessed with libraryName.functionName"
   ]
  },
  {
   "cell_type": "code",
   "execution_count": 41,
   "metadata": {},
   "outputs": [
    {
     "name": "stdout",
     "output_type": "stream",
     "text": [
      "0.9999996829318346\n"
     ]
    }
   ],
   "source": [
    "theta = 3.14/2\n",
    "sinTheta = TLib.sin_function(theta)\n",
    "print(sinTheta)"
   ]
  },
  {
   "cell_type": "markdown",
   "metadata": {},
   "source": [
    "# 6: Numpy"
   ]
  },
  {
   "cell_type": "markdown",
   "metadata": {},
   "source": [
    "#### Numpy is a fast and powerful mathematical library"
   ]
  },
  {
   "cell_type": "code",
   "execution_count": 42,
   "metadata": {},
   "outputs": [],
   "source": [
    "import numpy as np"
   ]
  },
  {
   "cell_type": "markdown",
   "metadata": {},
   "source": [
    "#### array and lists are assigned and indexed the same way"
   ]
  },
  {
   "cell_type": "code",
   "execution_count": 43,
   "metadata": {},
   "outputs": [
    {
     "name": "stdout",
     "output_type": "stream",
     "text": [
      "myList[0]: 1\n",
      "myArray[0]: 1\n"
     ]
    }
   ],
   "source": [
    "myList = [1, 2, 3]\n",
    "myArray = np.array([1, 2, 3])\n",
    "print(\"myList[0]:\", myList[0])\n",
    "print(\"myArray[0]:\", myArray[0])"
   ]
  },
  {
   "cell_type": "markdown",
   "metadata": {},
   "source": [
    "#### Both numpy array and python list can be multiplied by an integer"
   ]
  },
  {
   "cell_type": "code",
   "execution_count": 44,
   "metadata": {},
   "outputs": [],
   "source": [
    "newList = myList * 2\n",
    "newArray = myArray * 2"
   ]
  },
  {
   "cell_type": "markdown",
   "metadata": {},
   "source": [
    "#### But the behaviour is very different"
   ]
  },
  {
   "cell_type": "code",
   "execution_count": 45,
   "metadata": {},
   "outputs": [
    {
     "name": "stdout",
     "output_type": "stream",
     "text": [
      "[1, 2, 3, 1, 2, 3]\n",
      "[2 4 6]\n"
     ]
    }
   ],
   "source": [
    "print(newList)\n",
    "print(newArray)"
   ]
  },
  {
   "cell_type": "markdown",
   "metadata": {},
   "source": [
    "#### Adding to a numpy array adds the value to every member of the array"
   ]
  },
  {
   "cell_type": "code",
   "execution_count": 46,
   "metadata": {},
   "outputs": [
    {
     "name": "stdout",
     "output_type": "stream",
     "text": [
      "[3 4 5]\n"
     ]
    }
   ],
   "source": [
    "newArray = myArray + 2\n",
    "print(newArray)"
   ]
  },
  {
   "cell_type": "markdown",
   "metadata": {},
   "source": [
    "#### The array will understand any mathematical operator and it will act on every member of the array"
   ]
  },
  {
   "cell_type": "code",
   "execution_count": 47,
   "metadata": {},
   "outputs": [
    {
     "name": "stdout",
     "output_type": "stream",
     "text": [
      "[1 4 9]\n"
     ]
    }
   ],
   "source": [
    "print(myArray ** 2)"
   ]
  },
  {
   "cell_type": "markdown",
   "metadata": {},
   "source": [
    "#### The previously defined functions will also understand Numpy arrays"
   ]
  },
  {
   "cell_type": "code",
   "execution_count": 48,
   "metadata": {},
   "outputs": [
    {
     "name": "stdout",
     "output_type": "stream",
     "text": [
      "[1 2 3]\n",
      "var1 = [1 2 3]\n",
      "var2 = 10\n",
      "[11 12 13]\n"
     ]
    }
   ],
   "source": [
    "print(myArray)\n",
    "print(my_adding_function(myArray, 10))"
   ]
  },
  {
   "cell_type": "markdown",
   "metadata": {},
   "source": [
    "# 7: Matplotlib"
   ]
  },
  {
   "cell_type": "markdown",
   "metadata": {},
   "source": [
    "#### Matplotlib is a powerful plotting library"
   ]
  },
  {
   "cell_type": "code",
   "execution_count": 49,
   "metadata": {},
   "outputs": [
    {
     "name": "stderr",
     "output_type": "stream",
     "text": [
      "Fontconfig warning: ignoring UTF-8: not a valid region tag\n",
      "Matplotlib is building the font cache; this may take a moment.\n"
     ]
    }
   ],
   "source": [
    "import matplotlib.pyplot as plt"
   ]
  },
  {
   "cell_type": "markdown",
   "metadata": {},
   "source": [
    "#### Numpy arrays can be created, operated on, and used as plot input"
   ]
  },
  {
   "cell_type": "code",
   "execution_count": 51,
   "metadata": {},
   "outputs": [
    {
     "data": {
      "image/png": "[encoded data removed]",
      "text/plain": [
       "<Figure size 640x480 with 1 Axes>"
      ]
     },
     "metadata": {},
     "output_type": "display_data"
    }
   ],
   "source": [
    "xAxis = np.linspace(0, 10, 100)\n",
    "yAxis = np.sin(xAxis)\n",
    "plt.plot(xAxis, yAxis)\n",
    "plt.show()"
   ]
  },
  {
   "cell_type": "markdown",
   "metadata": {},
   "source": [
    "#### Operations can be embedded within the function call"
   ]
  },
  {
   "cell_type": "code",
   "execution_count": 52,
   "metadata": {},
   "outputs": [
    {
     "data": {
      "image/png": "[encoded data removed]",
      "text/plain": [
       "<Figure size 640x480 with 1 Axes>"
      ]
     },
     "metadata": {},
     "output_type": "display_data"
    }
   ],
   "source": [
    "plt.plot(xAxis, yAxis**2)\n",
    "plt.show()"
   ]
  },
  {
   "cell_type": "markdown",
   "metadata": {},
   "source": [
    "#### Embedding plot calls in a for loop is one way to show multiple plots on the same axis"
   ]
  },
  {
   "cell_type": "code",
   "execution_count": 53,
   "metadata": {},
   "outputs": [
    {
     "data": {
      "image/png": "[encoded data removed]",
      "text/plain": [
       "<Figure size 640x480 with 1 Axes>"
      ]
     },
     "metadata": {},
     "output_type": "display_data"
    }
   ],
   "source": [
    "for i in range(4):\n",
    "    plt.plot(xAxis, yAxis**i, label='sin(x)**'+str(i))\n",
    "plt.legend()\n",
    "plt.show()"
   ]
  },
  {
   "cell_type": "markdown",
   "metadata": {},
   "source": [
    "#### Numpy has random number generation, and the results can be shown in matplotlib with a scatter plot or a line plot"
   ]
  },
  {
   "cell_type": "code",
   "execution_count": 54,
   "metadata": {},
   "outputs": [
    {
     "data": {
      "image/png": "[encoded data removed]",
      "text/plain": [
       "<Figure size 640x480 with 1 Axes>"
      ]
     },
     "metadata": {},
     "output_type": "display_data"
    }
   ],
   "source": [
    "yRandom = np.random.rand(len(xAxis))\n",
    "plt.plot(xAxis, yRandom)\n",
    "plt.scatter(xAxis, yRandom)\n",
    "plt.show()"
   ]
  },
  {
   "cell_type": "markdown",
   "metadata": {},
   "source": [
    "#### Multiple scatter plots on the same axis can be created with different inputs"
   ]
  },
  {
   "cell_type": "code",
   "execution_count": 55,
   "metadata": {},
   "outputs": [
    {
     "data": {
      "image/png": "[encoded data removed]",
      "text/plain": [
       "<Figure size 640x480 with 1 Axes>"
      ]
     },
     "metadata": {},
     "output_type": "display_data"
    }
   ],
   "source": [
    "yRand1 = np.random.rand(len(xAxis))\n",
    "yRand2 = np.random.rand(len(xAxis))\n",
    "yRand3 = np.random.rand(len(xAxis))\n",
    "\n",
    "plt.scatter(xAxis, yRand1)\n",
    "plt.scatter(xAxis, yRand2)\n",
    "plt.scatter(xAxis, yRand3)\n",
    "plt.show()"
   ]
  },
  {
   "cell_type": "code",
   "execution_count": null,
   "metadata": {},
   "outputs": [],
   "source": []
  },
  {
   "cell_type": "code",
   "execution_count": null,
   "metadata": {},
   "outputs": [],
   "source": []
  }
 ],
 "metadata": {
  "kernelspec": {
   "display_name": "Python 3",
   "language": "python",
   "name": "python3"
  },
  "language_info": {
   "codemirror_mode": {
    "name": "ipython",
    "version": 3
   },
   "file_extension": ".py",
   "mimetype": "text/x-python",
   "name": "python",
   "nbconvert_exporter": "python",
   "pygments_lexer": "ipython3",
   "version": "3.12.5"
  }
 },
 "nbformat": 4,
 "nbformat_minor": 2
}
